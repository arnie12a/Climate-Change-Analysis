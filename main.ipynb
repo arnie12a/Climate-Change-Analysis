{
 "cells": [
  {
   "cell_type": "code",
   "execution_count": 1,
   "metadata": {},
   "outputs": [],
   "source": [
    "import pandas as pd\n",
    "from sklearn.model_selection import train_test_split, cross_val_score\n",
    "from sklearn.linear_model import LinearRegression\n",
    "from sklearn.model_selection import train_test_split, cross_val_score\n",
    "from sklearn.preprocessing import PolynomialFeatures\n",
    "from sklearn.pipeline import Pipeline\n",
    "import numpy as np\n",
    "\n",
    "df_temp = pd.read_csv(\"GlobalLandTemperaturesByCountry.csv\")\n",
    "df_emmisions = pd.read_csv(\"co-emissions-per-capita.csv\")\n",
    "locations = pd.read_csv(\"CountryLocations.csv\", delimiter = \"\\t\")"
   ]
  },
  {
   "cell_type": "code",
   "execution_count": 2,
   "metadata": {},
   "outputs": [],
   "source": [
    "locations = locations.rename(columns={\"name\":\"Country\"})\n",
    "del locations[\"country\"]"
   ]
  },
  {
   "cell_type": "markdown",
   "metadata": {},
   "source": [
    "# Editing temperature and emissions data"
   ]
  },
  {
   "cell_type": "code",
   "execution_count": 3,
   "metadata": {
    "scrolled": true
   },
   "outputs": [],
   "source": [
    "# Temperature dataframe converting the date \n",
    "def date_converter(date):\n",
    "    if isinstance(date,str): # checks if the date is of string type\n",
    "        year = float(date[:4])\n",
    "    return year\n",
    "\n",
    "\n",
    "#Renaming dt column to Year\n",
    "df_temp = df_temp.rename(columns={\"dt\":\"Year\"})\n",
    "\n",
    "df_temp['Year'] = df_temp['Year'].apply(date_converter).astype(int).astype(str)\n",
    "\n",
    "# Gets rid of rows in the dataframe with a NaN element\n",
    "no_NaN_df = df_temp.dropna()\n",
    "\n",
    "df_temp = no_NaN_df.groupby(['Country', 'Year'], as_index=False).mean()\n",
    "\n",
    "# Dropping Code column from the emissions dataframe\n",
    "df_emmisions = df_emmisions.drop(['Code'], axis=1)\n",
    "\n",
    "# Changing df_emmisions dataframe column Entity to Country\n",
    "df_emmisions = df_emmisions.rename(columns={\"Entity\":\"Country\"})\n",
    "\n",
    "df_emmisions['Year'] = df_emmisions['Year'].values.astype(str)"
   ]
  },
  {
   "cell_type": "markdown",
   "metadata": {},
   "source": [
    "# Combining the two dataframes into one"
   ]
  },
  {
   "cell_type": "code",
   "execution_count": 4,
   "metadata": {},
   "outputs": [
    {
     "data": {
      "text/html": [
       "<div>\n",
       "<style scoped>\n",
       "    .dataframe tbody tr th:only-of-type {\n",
       "        vertical-align: middle;\n",
       "    }\n",
       "\n",
       "    .dataframe tbody tr th {\n",
       "        vertical-align: top;\n",
       "    }\n",
       "\n",
       "    .dataframe thead th {\n",
       "        text-align: right;\n",
       "    }\n",
       "</style>\n",
       "<table border=\"1\" class=\"dataframe\">\n",
       "  <thead>\n",
       "    <tr style=\"text-align: right;\">\n",
       "      <th></th>\n",
       "      <th>Country</th>\n",
       "      <th>Year</th>\n",
       "      <th>AverageTemperature</th>\n",
       "      <th>Per capita CO2 emissions</th>\n",
       "      <th>latitude</th>\n",
       "      <th>longitude</th>\n",
       "    </tr>\n",
       "  </thead>\n",
       "  <tbody>\n",
       "    <tr>\n",
       "      <th>0</th>\n",
       "      <td>Afghanistan</td>\n",
       "      <td>1949</td>\n",
       "      <td>13.350083</td>\n",
       "      <td>0.001912</td>\n",
       "      <td>33.939110</td>\n",
       "      <td>67.709953</td>\n",
       "    </tr>\n",
       "    <tr>\n",
       "      <th>1</th>\n",
       "      <td>Afghanistan</td>\n",
       "      <td>1950</td>\n",
       "      <td>13.043500</td>\n",
       "      <td>0.010871</td>\n",
       "      <td>33.939110</td>\n",
       "      <td>67.709953</td>\n",
       "    </tr>\n",
       "    <tr>\n",
       "      <th>2</th>\n",
       "      <td>Afghanistan</td>\n",
       "      <td>1951</td>\n",
       "      <td>13.967750</td>\n",
       "      <td>0.011684</td>\n",
       "      <td>33.939110</td>\n",
       "      <td>67.709953</td>\n",
       "    </tr>\n",
       "    <tr>\n",
       "      <th>3</th>\n",
       "      <td>Afghanistan</td>\n",
       "      <td>1952</td>\n",
       "      <td>14.175417</td>\n",
       "      <td>0.011542</td>\n",
       "      <td>33.939110</td>\n",
       "      <td>67.709953</td>\n",
       "    </tr>\n",
       "    <tr>\n",
       "      <th>4</th>\n",
       "      <td>Afghanistan</td>\n",
       "      <td>1953</td>\n",
       "      <td>14.650750</td>\n",
       "      <td>0.013216</td>\n",
       "      <td>33.939110</td>\n",
       "      <td>67.709953</td>\n",
       "    </tr>\n",
       "    <tr>\n",
       "      <th>...</th>\n",
       "      <td>...</td>\n",
       "      <td>...</td>\n",
       "      <td>...</td>\n",
       "      <td>...</td>\n",
       "      <td>...</td>\n",
       "      <td>...</td>\n",
       "    </tr>\n",
       "    <tr>\n",
       "      <th>18631</th>\n",
       "      <td>Zimbabwe</td>\n",
       "      <td>2009</td>\n",
       "      <td>21.377250</td>\n",
       "      <td>0.437129</td>\n",
       "      <td>-19.015438</td>\n",
       "      <td>29.154857</td>\n",
       "    </tr>\n",
       "    <tr>\n",
       "      <th>18632</th>\n",
       "      <td>Zimbabwe</td>\n",
       "      <td>2010</td>\n",
       "      <td>21.986250</td>\n",
       "      <td>0.619328</td>\n",
       "      <td>-19.015438</td>\n",
       "      <td>29.154857</td>\n",
       "    </tr>\n",
       "    <tr>\n",
       "      <th>18633</th>\n",
       "      <td>Zimbabwe</td>\n",
       "      <td>2011</td>\n",
       "      <td>21.602417</td>\n",
       "      <td>0.735250</td>\n",
       "      <td>-19.015438</td>\n",
       "      <td>29.154857</td>\n",
       "    </tr>\n",
       "    <tr>\n",
       "      <th>18634</th>\n",
       "      <td>Zimbabwe</td>\n",
       "      <td>2012</td>\n",
       "      <td>21.521333</td>\n",
       "      <td>0.583977</td>\n",
       "      <td>-19.015438</td>\n",
       "      <td>29.154857</td>\n",
       "    </tr>\n",
       "    <tr>\n",
       "      <th>18635</th>\n",
       "      <td>Zimbabwe</td>\n",
       "      <td>2013</td>\n",
       "      <td>20.710750</td>\n",
       "      <td>0.870154</td>\n",
       "      <td>-19.015438</td>\n",
       "      <td>29.154857</td>\n",
       "    </tr>\n",
       "  </tbody>\n",
       "</table>\n",
       "<p>18636 rows × 6 columns</p>\n",
       "</div>"
      ],
      "text/plain": [
       "           Country  Year  AverageTemperature  Per capita CO2 emissions  \\\n",
       "0      Afghanistan  1949           13.350083                  0.001912   \n",
       "1      Afghanistan  1950           13.043500                  0.010871   \n",
       "2      Afghanistan  1951           13.967750                  0.011684   \n",
       "3      Afghanistan  1952           14.175417                  0.011542   \n",
       "4      Afghanistan  1953           14.650750                  0.013216   \n",
       "...            ...   ...                 ...                       ...   \n",
       "18631     Zimbabwe  2009           21.377250                  0.437129   \n",
       "18632     Zimbabwe  2010           21.986250                  0.619328   \n",
       "18633     Zimbabwe  2011           21.602417                  0.735250   \n",
       "18634     Zimbabwe  2012           21.521333                  0.583977   \n",
       "18635     Zimbabwe  2013           20.710750                  0.870154   \n",
       "\n",
       "        latitude  longitude  \n",
       "0      33.939110  67.709953  \n",
       "1      33.939110  67.709953  \n",
       "2      33.939110  67.709953  \n",
       "3      33.939110  67.709953  \n",
       "4      33.939110  67.709953  \n",
       "...          ...        ...  \n",
       "18631 -19.015438  29.154857  \n",
       "18632 -19.015438  29.154857  \n",
       "18633 -19.015438  29.154857  \n",
       "18634 -19.015438  29.154857  \n",
       "18635 -19.015438  29.154857  \n",
       "\n",
       "[18636 rows x 6 columns]"
      ]
     },
     "execution_count": 4,
     "metadata": {},
     "output_type": "execute_result"
    }
   ],
   "source": [
    "emission_years = df_emmisions['Year'].to_list()\n",
    "emission_distinct_years = list(set(emission_years))\n",
    "\n",
    "df_combined = pd.merge(df_temp,df_emmisions, on=[\"Year\", \"Country\"])\n",
    "df_combined = pd.merge(df_combined, locations, on=\"Country\")\n",
    "del df_combined[\"AverageTemperatureUncertainty\"]\n",
    "df_combined"
   ]
  },
  {
   "cell_type": "markdown",
   "metadata": {},
   "source": [
    "# Classifier\n",
    "Creating a classifier representative of a Linear Regression Model\n",
    "This model will use the countries Per Capita CO2 emissions, the Year, and the Latitude of the country to predict the Average temperature of that country. \n",
    "This model will evaluate whether there is a link between the CO2 emissions of a country and their temperature. It has been suggested throughout the globe that the increasing in carbon emissions has increased the global temperature of the Earth resulting in the beginning stages of global warming. "
   ]
  },
  {
   "cell_type": "code",
   "execution_count": 9,
   "metadata": {},
   "outputs": [],
   "source": [
    "model = Pipeline([\n",
    "    (\"poly\", PolynomialFeatures(degree=2, include_bias=False)),\n",
    "    (\"model\", LinearRegression()),\n",
    "])\n",
    "xcols = [\"Per capita CO2 emissions\", \"Year\", \"latitude\"]\n",
    "ycols = [\"AverageTemperature\"]"
   ]
  },
  {
   "cell_type": "markdown",
   "metadata": {},
   "source": [
    "### Calculating the scores of each country and placing the mean of the scores into a dictionary consisting of the Country and their respective score correlating to the predicted vs actual temperature"
   ]
  },
  {
   "cell_type": "code",
   "execution_count": 29,
   "metadata": {},
   "outputs": [
    {
     "name": "stdout",
     "output_type": "stream",
     "text": [
      "Botswana: 0.987081204390903\n",
      "Malta: 0.9759112351494721\n",
      "Andorra: 0.9694900451288417\n",
      "Cambodia: 0.9506239849189058\n",
      "Fiji: 0.8553292936197525\n",
      "Niger: 0.7938208567265848\n",
      "Nepal: 0.7897504724421498\n",
      "Senegal: 0.7576539932888273\n",
      "Aruba: 0.7303270923240929\n",
      "Malaysia: 0.7274958697251928\n",
      "Uganda: 0.7266775157973877\n",
      "Indonesia: 0.7135751792335677\n",
      "Djibouti: 0.6818728598699556\n",
      "Philippines: 0.6677156198584119\n",
      "Sri Lanka: 0.6344995329066186\n",
      "Liberia: 0.6213637261327447\n",
      "Vietnam: 0.6105392872834223\n",
      "Montserrat: 0.6020243220268479\n",
      "United Arab Emirates: 0.5988475703018135\n",
      "Ethiopia: 0.5974925570807808\n",
      "Togo: 0.5832359395455539\n",
      "Eritrea: 0.5823734884022199\n",
      "Qatar: 0.5815507194489329\n",
      "Burundi: 0.5807402559101472\n",
      "Peru: 0.5631293391329921\n",
      "South Africa: 0.5629499730235598\n",
      "Cameroon: 0.561311615600879\n",
      "Rwanda: 0.5588240965602057\n",
      "Brazil: 0.5564076345652819\n",
      "Bangladesh: 0.5555469016450939\n",
      "Ghana: 0.5476620871357596\n",
      "Italy: 0.5436140273387008\n",
      "Morocco: 0.5421955748689912\n",
      "Seychelles: 0.539105369675868\n",
      "Samoa: 0.5358583614200357\n",
      "Australia: 0.5283316280789838\n",
      "Lebanon: 0.5272480741502458\n",
      "Venezuela: 0.5271184118811927\n",
      "Kenya: 0.5213313650169822\n",
      "Mauritius: 0.5212989427724267\n",
      "Taiwan: 0.5178157558178754\n",
      "Iran: 0.5135465442816189\n",
      "Solomon Islands: 0.5109693861702048\n",
      "Tunisia: 0.508270588842448\n",
      "Dominican Republic: 0.5068016710353035\n",
      "Yemen: 0.505164476637699\n",
      "Israel: 0.5047228049303136\n",
      "Jamaica: 0.4930039581897335\n"
     ]
    }
   ],
   "source": [
    "all_countries = list(set(df_combined[\"Country\"]))\n",
    "def country_cal(country):\n",
    "    country_df = df_combined[df_combined[\"Country\"] == country]\n",
    "    train, test = train_test_split(country_df)\n",
    "    scores = cross_val_score(model, train[xcols], train[ycols])\n",
    "    return np.abs(scores).mean()\n",
    "\n",
    "vals = {}\n",
    "for c in all_countries:\n",
    "    v = country_cal(c)\n",
    "    if v > 0 and v <= 1:\n",
    "        vals[c] = v\n",
    "vals = sorted(vals.items(), key=lambda x:x[1], reverse=True)\n",
    "sort_vals = dict(vals)\n",
    "i = 0\n",
    "for key, value in sort_vals.items():\n",
    "    i+=1\n",
    "    print(key + \": \" + str(value))\n",
    "    if value<.50:\n",
    "        break"
   ]
  },
  {
   "cell_type": "code",
   "execution_count": 33,
   "metadata": {},
   "outputs": [
    {
     "name": "stdout",
     "output_type": "stream",
     "text": [
      "48 countries have an average score above 50% percent.\n"
     ]
    }
   ],
   "source": [
    "print(str(i) + \" countries have an average score above 50% percent.\")"
   ]
  },
  {
   "cell_type": "markdown",
   "metadata": {},
   "source": [
    "### Analysis\n",
    "By using the Year, CO2 emmisions per Capita, and the latitude of the country, the model is able to predict the Average Temperature of the 48 countries with more than 50% accuracy "
   ]
  },
  {
   "cell_type": "markdown",
   "metadata": {},
   "source": [
    "In conclusion, there does seem to be a correlation between a countries Co2 emmissions per Capita and their average temperature. Therefore, with the world's CO2 emissions increasing due to increasing of production, the average global temperature is also increasing since their is a direct relationship between these two values. This means that the polar ice caps will begin to melt because of the rise in temperature which will cause a rise in sea levels. So humans are in danger of cities going underwater if we do not tackle climate change because it is an impending danger that can cause a lot of damage.  "
   ]
  },
  {
   "cell_type": "code",
   "execution_count": null,
   "metadata": {},
   "outputs": [],
   "source": []
  }
 ],
 "metadata": {
  "kernelspec": {
   "display_name": "Python 3",
   "language": "python",
   "name": "python3"
  },
  "language_info": {
   "codemirror_mode": {
    "name": "ipython",
    "version": 3
   },
   "file_extension": ".py",
   "mimetype": "text/x-python",
   "name": "python",
   "nbconvert_exporter": "python",
   "pygments_lexer": "ipython3",
   "version": "3.8.5"
  }
 },
 "nbformat": 4,
 "nbformat_minor": 4
}
